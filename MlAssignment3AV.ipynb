{
  "nbformat": 4,
  "nbformat_minor": 0,
  "metadata": {
    "colab": {
      "name": "MlAssignment3AV.ipynb",
      "provenance": []
    },
    "kernelspec": {
      "name": "python3",
      "display_name": "Python 3"
    },
    "language_info": {
      "name": "python"
    }
  },
  "cells": [
    {
      "cell_type": "code",
      "metadata": {
        "colab": {
          "base_uri": "https://localhost:8080/",
          "height": 36
        },
        "id": "MYQs9__L6Xq3",
        "outputId": "736cf88e-8ebd-4991-db50-f03a6d859e2d"
      },
      "source": [
        "import tensorflow as tf\n",
        "from tensorflow import keras\n",
        "from tensorflow.keras.layers import Dense,Input, Flatten, Bidirectional, BatchNormalization , Dropout, Concatenate\n",
        "tf.__version__\n",
        "keras.__version__"
      ],
      "execution_count": 1,
      "outputs": [
        {
          "output_type": "execute_result",
          "data": {
            "application/vnd.google.colaboratory.intrinsic+json": {
              "type": "string"
            },
            "text/plain": [
              "'2.7.0'"
            ]
          },
          "metadata": {},
          "execution_count": 1
        }
      ]
    },
    {
      "cell_type": "code",
      "metadata": {
        "id": "BmjZyome6ih_"
      },
      "source": [
        "#Loading the FASHION_MNIST dataset\n",
        "fashion_mnist = keras.datasets.fashion_mnist\n",
        "(X_train_all, y_train_all), (X_test, y_test) = fashion_mnist.load_data()"
      ],
      "execution_count": 2,
      "outputs": []
    },
    {
      "cell_type": "code",
      "metadata": {
        "colab": {
          "base_uri": "https://localhost:8080/"
        },
        "id": "zS_pGH6C69nN",
        "outputId": "f3114f2c-eb7b-4319-8bb1-33efed28701d"
      },
      "source": [
        "X_train_all.shape"
      ],
      "execution_count": 3,
      "outputs": [
        {
          "output_type": "execute_result",
          "data": {
            "text/plain": [
              "(60000, 28, 28)"
            ]
          },
          "metadata": {},
          "execution_count": 3
        }
      ]
    },
    {
      "cell_type": "markdown",
      "metadata": {
        "id": "pOi4hlX-7Ykt"
      },
      "source": [
        ""
      ]
    },
    {
      "cell_type": "code",
      "metadata": {
        "id": "vyWwMY3V7U-O"
      },
      "source": [
        "#Rescaling image data in x_train_all from (0 to 255) to (0 to 1)\n",
        "X_train_all , X_test = X_train_all / 255.0 , X_test / 255.0\n",
        "\n",
        "#Populating x_valid ,x_train, y_valid, y_train\n",
        "X_valid, X_train = X_train_all[:5000], X_train_all[5000:]\n",
        "y_valid, y_train = y_train_all[:5000], y_train_all[5000:]"
      ],
      "execution_count": 4,
      "outputs": []
    },
    {
      "cell_type": "code",
      "metadata": {
        "id": "Dyy8A0Pc9Hbg"
      },
      "source": [
        "#Building a neural network with batch normalization and dropout layers\n",
        "input_data = Input(shape= X_train[0].shape)\n",
        "hidden_Layer_1 = Dense(30 , activation='relu')(input_data)\n",
        "model_modified = BatchNormalization()(hidden_Layer_1)\n",
        "model_modified = Dropout(0.4)(model_modified)\n",
        "\n",
        "hidden_Layer_2 = Dense(29, activation='relu')(model_modified)\n",
        "\n",
        "hidden_Layer_3 = Dense(28, activation='relu')(hidden_Layer_2)\n",
        "model_modified = BatchNormalization()(hidden_Layer_3)\n",
        "model_modified = Dropout(0.4)(model_modified)\n",
        "\n",
        "concat = Concatenate(axis=1)\n",
        "model = concat([input_data, model_modified])\n",
        "model = Flatten()(model)\n",
        "\n",
        "output = Dense(10, activation='softmax')(model)\n",
        "model = keras.models.Model(inputs = [input_data], outputs = [output])"
      ],
      "execution_count": 5,
      "outputs": []
    },
    {
      "cell_type": "code",
      "metadata": {
        "id": "b5cwfdrk-wtm"
      },
      "source": [
        "model.compile(loss='sparse_categorical_crossentropy', optimizer='adam', metrics=['accuracy'])"
      ],
      "execution_count": 6,
      "outputs": []
    },
    {
      "cell_type": "code",
      "metadata": {
        "colab": {
          "base_uri": "https://localhost:8080/"
        },
        "id": "BDr8zrlgA6Pl",
        "outputId": "ed1a1f2a-bede-4f82-cb5f-8000e4d59436"
      },
      "source": [
        "history = model.fit(X_train,y_train, batch_size=72, epochs=15, validation_data=(X_valid, y_valid))"
      ],
      "execution_count": 17,
      "outputs": [
        {
          "output_type": "stream",
          "name": "stdout",
          "text": [
            "Epoch 1/15\n",
            "764/764 [==============================] - 6s 8ms/step - loss: 0.2617 - accuracy: 0.9027 - val_loss: 0.2848 - val_accuracy: 0.9006\n",
            "Epoch 2/15\n",
            "764/764 [==============================] - 7s 9ms/step - loss: 0.2629 - accuracy: 0.9036 - val_loss: 0.2891 - val_accuracy: 0.8950\n",
            "Epoch 3/15\n",
            "764/764 [==============================] - 6s 8ms/step - loss: 0.2622 - accuracy: 0.9042 - val_loss: 0.2850 - val_accuracy: 0.8994\n",
            "Epoch 4/15\n",
            "764/764 [==============================] - 6s 8ms/step - loss: 0.2618 - accuracy: 0.9037 - val_loss: 0.2967 - val_accuracy: 0.8968\n",
            "Epoch 5/15\n",
            "764/764 [==============================] - 6s 8ms/step - loss: 0.2589 - accuracy: 0.9051 - val_loss: 0.2952 - val_accuracy: 0.8940\n",
            "Epoch 6/15\n",
            "764/764 [==============================] - 6s 8ms/step - loss: 0.2594 - accuracy: 0.9039 - val_loss: 0.2928 - val_accuracy: 0.8954\n",
            "Epoch 7/15\n",
            "764/764 [==============================] - 6s 8ms/step - loss: 0.2590 - accuracy: 0.9043 - val_loss: 0.2941 - val_accuracy: 0.8972\n",
            "Epoch 8/15\n",
            "764/764 [==============================] - 6s 8ms/step - loss: 0.2599 - accuracy: 0.9040 - val_loss: 0.2980 - val_accuracy: 0.8942\n",
            "Epoch 9/15\n",
            "764/764 [==============================] - 6s 8ms/step - loss: 0.2577 - accuracy: 0.9046 - val_loss: 0.2977 - val_accuracy: 0.8916\n",
            "Epoch 10/15\n",
            "764/764 [==============================] - 6s 8ms/step - loss: 0.2569 - accuracy: 0.9059 - val_loss: 0.3002 - val_accuracy: 0.8970\n",
            "Epoch 11/15\n",
            "764/764 [==============================] - 6s 8ms/step - loss: 0.2581 - accuracy: 0.9047 - val_loss: 0.2884 - val_accuracy: 0.8998\n",
            "Epoch 12/15\n",
            "764/764 [==============================] - 6s 8ms/step - loss: 0.2553 - accuracy: 0.9057 - val_loss: 0.2890 - val_accuracy: 0.8970\n",
            "Epoch 13/15\n",
            "764/764 [==============================] - 6s 8ms/step - loss: 0.2552 - accuracy: 0.9067 - val_loss: 0.3211 - val_accuracy: 0.8876\n",
            "Epoch 14/15\n",
            "764/764 [==============================] - 6s 8ms/step - loss: 0.2577 - accuracy: 0.9057 - val_loss: 0.2973 - val_accuracy: 0.8956\n",
            "Epoch 15/15\n",
            "764/764 [==============================] - 6s 8ms/step - loss: 0.2547 - accuracy: 0.9061 - val_loss: 0.2917 - val_accuracy: 0.8960\n"
          ]
        }
      ]
    },
    {
      "cell_type": "code",
      "metadata": {
        "id": "zPrOxwbzDeAi"
      },
      "source": [
        ""
      ],
      "execution_count": 7,
      "outputs": []
    },
    {
      "cell_type": "code",
      "metadata": {
        "colab": {
          "base_uri": "https://localhost:8080/"
        },
        "id": "a7cMXqdUBQDD",
        "outputId": "c3a6ae9b-bbbb-43d2-9ece-91c921ab2a10"
      },
      "source": [
        "score = model.evaluate(X_test,y_test, verbose=0)\n",
        "print('Test Loss: {:.4f}%'.format(score[0]*100))\n",
        "print('Test Accuracy : {:.4f}%'.format(score[1]*100))"
      ],
      "execution_count": 18,
      "outputs": [
        {
          "output_type": "stream",
          "name": "stdout",
          "text": [
            "Test Loss: 32.0652%\n",
            "Test Accuracy : 89.0400%\n"
          ]
        }
      ]
    },
    {
      "cell_type": "code",
      "metadata": {
        "colab": {
          "base_uri": "https://localhost:8080/"
        },
        "id": "MC125XJZDhj_",
        "outputId": "5e5c3c0c-3a8a-4403-f879-10d93fc18edb"
      },
      "source": [
        "history = model.fit(X_train,y_train, batch_size=72, epochs=10, validation_data=(X_valid, y_valid))"
      ],
      "execution_count": 19,
      "outputs": [
        {
          "output_type": "stream",
          "name": "stdout",
          "text": [
            "Epoch 1/10\n",
            "764/764 [==============================] - 6s 8ms/step - loss: 0.2560 - accuracy: 0.9053 - val_loss: 0.2858 - val_accuracy: 0.9006\n",
            "Epoch 2/10\n",
            "764/764 [==============================] - 6s 8ms/step - loss: 0.2523 - accuracy: 0.9077 - val_loss: 0.2885 - val_accuracy: 0.8974\n",
            "Epoch 3/10\n",
            "764/764 [==============================] - 6s 8ms/step - loss: 0.2538 - accuracy: 0.9070 - val_loss: 0.3086 - val_accuracy: 0.8936\n",
            "Epoch 4/10\n",
            "764/764 [==============================] - 6s 8ms/step - loss: 0.2549 - accuracy: 0.9058 - val_loss: 0.2895 - val_accuracy: 0.8980\n",
            "Epoch 5/10\n",
            "764/764 [==============================] - 6s 8ms/step - loss: 0.2535 - accuracy: 0.9065 - val_loss: 0.2909 - val_accuracy: 0.8972\n",
            "Epoch 6/10\n",
            "764/764 [==============================] - 6s 8ms/step - loss: 0.2523 - accuracy: 0.9069 - val_loss: 0.2888 - val_accuracy: 0.9012\n",
            "Epoch 7/10\n",
            "764/764 [==============================] - 6s 8ms/step - loss: 0.2508 - accuracy: 0.9077 - val_loss: 0.3016 - val_accuracy: 0.8944\n",
            "Epoch 8/10\n",
            "764/764 [==============================] - 6s 8ms/step - loss: 0.2490 - accuracy: 0.9083 - val_loss: 0.2882 - val_accuracy: 0.9020\n",
            "Epoch 9/10\n",
            "764/764 [==============================] - 6s 8ms/step - loss: 0.2506 - accuracy: 0.9093 - val_loss: 0.2993 - val_accuracy: 0.8976\n",
            "Epoch 10/10\n",
            "764/764 [==============================] - 6s 8ms/step - loss: 0.2502 - accuracy: 0.9073 - val_loss: 0.2996 - val_accuracy: 0.8998\n"
          ]
        }
      ]
    },
    {
      "cell_type": "code",
      "metadata": {
        "colab": {
          "base_uri": "https://localhost:8080/"
        },
        "id": "JWWCdUsIDkl4",
        "outputId": "c4bb4df8-440e-4e59-ce0b-0fc07ee8c354"
      },
      "source": [
        "score = model.evaluate(X_test,y_test, verbose=0)\n",
        "\n",
        "print('Test Loss: {:.2f}%'.format(score[0]*100))\n",
        "print('Test Accuracy : {:.4f}%'.format(score[1]*100))"
      ],
      "execution_count": 20,
      "outputs": [
        {
          "output_type": "stream",
          "name": "stdout",
          "text": [
            "Test Loss: 33.03%\n",
            "Test Accuracy : 88.9400%\n"
          ]
        }
      ]
    },
    {
      "cell_type": "code",
      "metadata": {
        "colab": {
          "base_uri": "https://localhost:8080/"
        },
        "id": "sEE_imytNHIU",
        "outputId": "1e9e5e86-4681-4d9d-a764-1ffa3aff0ad1"
      },
      "source": [
        "history = model.fit(X_train,y_train, batch_size=72, epochs=5, validation_data=(X_valid, y_valid))"
      ],
      "execution_count": 21,
      "outputs": [
        {
          "output_type": "stream",
          "name": "stdout",
          "text": [
            "Epoch 1/5\n",
            "764/764 [==============================] - 6s 8ms/step - loss: 0.2508 - accuracy: 0.9073 - val_loss: 0.2974 - val_accuracy: 0.8964\n",
            "Epoch 2/5\n",
            "764/764 [==============================] - 6s 8ms/step - loss: 0.2508 - accuracy: 0.9085 - val_loss: 0.2874 - val_accuracy: 0.9006\n",
            "Epoch 3/5\n",
            "764/764 [==============================] - 6s 8ms/step - loss: 0.2502 - accuracy: 0.9077 - val_loss: 0.2953 - val_accuracy: 0.8992\n",
            "Epoch 4/5\n",
            "764/764 [==============================] - 6s 8ms/step - loss: 0.2497 - accuracy: 0.9089 - val_loss: 0.3046 - val_accuracy: 0.8980\n",
            "Epoch 5/5\n",
            "764/764 [==============================] - 6s 8ms/step - loss: 0.2483 - accuracy: 0.9086 - val_loss: 0.3042 - val_accuracy: 0.8964\n"
          ]
        }
      ]
    },
    {
      "cell_type": "code",
      "metadata": {
        "colab": {
          "base_uri": "https://localhost:8080/"
        },
        "id": "ufo4HZuXNEBT",
        "outputId": "6a2ca8e7-184e-4c36-9f3a-77c2befa437f"
      },
      "source": [
        "score = model.evaluate(X_test,y_test, verbose=0)\n",
        "print(score[0],score[1])\n",
        "print('Test Loss: {:.2f}%'.format(score[0]*100))\n",
        "print('Test Accuracy : {:.4f}%'.format(score[1]*100))"
      ],
      "execution_count": 22,
      "outputs": [
        {
          "output_type": "stream",
          "name": "stdout",
          "text": [
            "0.32903847098350525 0.8881000280380249\n",
            "Test Loss: 32.90%\n",
            "Test Accuracy : 88.8100%\n"
          ]
        }
      ]
    },
    {
      "cell_type": "code",
      "metadata": {
        "colab": {
          "base_uri": "https://localhost:8080/"
        },
        "id": "rBkAEv2SND4M",
        "outputId": "e87df5c6-ea43-4321-e18c-7915d10475fc"
      },
      "source": [
        "history = model.fit(X_train,y_train, batch_size=72, epochs=20, validation_data=(X_valid, y_valid))"
      ],
      "execution_count": 23,
      "outputs": [
        {
          "output_type": "stream",
          "name": "stdout",
          "text": [
            "Epoch 1/20\n",
            "764/764 [==============================] - 6s 8ms/step - loss: 0.2498 - accuracy: 0.9079 - val_loss: 0.3007 - val_accuracy: 0.8940\n",
            "Epoch 2/20\n",
            "764/764 [==============================] - 6s 8ms/step - loss: 0.2495 - accuracy: 0.9081 - val_loss: 0.2995 - val_accuracy: 0.8964\n",
            "Epoch 3/20\n",
            "764/764 [==============================] - 6s 8ms/step - loss: 0.2483 - accuracy: 0.9095 - val_loss: 0.2952 - val_accuracy: 0.8932\n",
            "Epoch 4/20\n",
            "764/764 [==============================] - 6s 8ms/step - loss: 0.2485 - accuracy: 0.9079 - val_loss: 0.2872 - val_accuracy: 0.9008\n",
            "Epoch 5/20\n",
            "764/764 [==============================] - 6s 8ms/step - loss: 0.2479 - accuracy: 0.9079 - val_loss: 0.2903 - val_accuracy: 0.8984\n",
            "Epoch 6/20\n",
            "764/764 [==============================] - 6s 8ms/step - loss: 0.2470 - accuracy: 0.9089 - val_loss: 0.3204 - val_accuracy: 0.8908\n",
            "Epoch 7/20\n",
            "764/764 [==============================] - 6s 8ms/step - loss: 0.2490 - accuracy: 0.9074 - val_loss: 0.2955 - val_accuracy: 0.8984\n",
            "Epoch 8/20\n",
            "764/764 [==============================] - 6s 8ms/step - loss: 0.2465 - accuracy: 0.9086 - val_loss: 0.2944 - val_accuracy: 0.8968\n",
            "Epoch 9/20\n",
            "764/764 [==============================] - 6s 8ms/step - loss: 0.2460 - accuracy: 0.9095 - val_loss: 0.2988 - val_accuracy: 0.8982\n",
            "Epoch 10/20\n",
            "764/764 [==============================] - 6s 8ms/step - loss: 0.2468 - accuracy: 0.9101 - val_loss: 0.3003 - val_accuracy: 0.8930\n",
            "Epoch 11/20\n",
            "764/764 [==============================] - 6s 8ms/step - loss: 0.2457 - accuracy: 0.9095 - val_loss: 0.3132 - val_accuracy: 0.8924\n",
            "Epoch 12/20\n",
            "764/764 [==============================] - 6s 8ms/step - loss: 0.2444 - accuracy: 0.9101 - val_loss: 0.3017 - val_accuracy: 0.8978\n",
            "Epoch 13/20\n",
            "764/764 [==============================] - 6s 8ms/step - loss: 0.2453 - accuracy: 0.9100 - val_loss: 0.2984 - val_accuracy: 0.8930\n",
            "Epoch 14/20\n",
            "764/764 [==============================] - 6s 8ms/step - loss: 0.2481 - accuracy: 0.9094 - val_loss: 0.3012 - val_accuracy: 0.8980\n",
            "Epoch 15/20\n",
            "764/764 [==============================] - 6s 8ms/step - loss: 0.2466 - accuracy: 0.9102 - val_loss: 0.2882 - val_accuracy: 0.8998\n",
            "Epoch 16/20\n",
            "764/764 [==============================] - 6s 8ms/step - loss: 0.2453 - accuracy: 0.9101 - val_loss: 0.2930 - val_accuracy: 0.9008\n",
            "Epoch 17/20\n",
            "764/764 [==============================] - 6s 8ms/step - loss: 0.2454 - accuracy: 0.9088 - val_loss: 0.2908 - val_accuracy: 0.8980\n",
            "Epoch 18/20\n",
            "764/764 [==============================] - 6s 8ms/step - loss: 0.2451 - accuracy: 0.9093 - val_loss: 0.3154 - val_accuracy: 0.8898\n",
            "Epoch 19/20\n",
            "764/764 [==============================] - 6s 8ms/step - loss: 0.2442 - accuracy: 0.9111 - val_loss: 0.2937 - val_accuracy: 0.8976\n",
            "Epoch 20/20\n",
            "764/764 [==============================] - 6s 8ms/step - loss: 0.2456 - accuracy: 0.9084 - val_loss: 0.2972 - val_accuracy: 0.8968\n"
          ]
        }
      ]
    },
    {
      "cell_type": "code",
      "metadata": {
        "colab": {
          "base_uri": "https://localhost:8080/"
        },
        "id": "-S6-FnM8RUi5",
        "outputId": "a0612db5-372d-48c6-fca3-c6cf4b4c4757"
      },
      "source": [
        "score = model.evaluate(X_test,y_test, verbose=0)\n",
        "#Results\n",
        "print('Test Loss: {:.2f}%'.format(score[0]*100))\n",
        "print('Test Accuracy : {:.4f}%'.format(score[1]*100))"
      ],
      "execution_count": 24,
      "outputs": [
        {
          "output_type": "stream",
          "name": "stdout",
          "text": [
            "Test Loss: 32.54%\n",
            "Test Accuracy : 88.6500%\n"
          ]
        }
      ]
    },
    {
      "cell_type": "code",
      "metadata": {
        "colab": {
          "base_uri": "https://localhost:8080/"
        },
        "id": "Zw-iZbNOCRJn",
        "outputId": "01da62d7-bd40-4a09-b2bd-e3a121c19ac0"
      },
      "source": [
        "model.summary()"
      ],
      "execution_count": 15,
      "outputs": [
        {
          "output_type": "stream",
          "name": "stdout",
          "text": [
            "Model: \"model\"\n",
            "__________________________________________________________________________________________________\n",
            " Layer (type)                   Output Shape         Param #     Connected to                     \n",
            "==================================================================================================\n",
            " input_1 (InputLayer)           [(None, 28, 28)]     0           []                               \n",
            "                                                                                                  \n",
            " dense (Dense)                  (None, 28, 30)       870         ['input_1[0][0]']                \n",
            "                                                                                                  \n",
            " batch_normalization (BatchNorm  (None, 28, 30)      120         ['dense[0][0]']                  \n",
            " alization)                                                                                       \n",
            "                                                                                                  \n",
            " dropout (Dropout)              (None, 28, 30)       0           ['batch_normalization[0][0]']    \n",
            "                                                                                                  \n",
            " dense_1 (Dense)                (None, 28, 29)       899         ['dropout[0][0]']                \n",
            "                                                                                                  \n",
            " dense_2 (Dense)                (None, 28, 28)       840         ['dense_1[0][0]']                \n",
            "                                                                                                  \n",
            " batch_normalization_1 (BatchNo  (None, 28, 28)      112         ['dense_2[0][0]']                \n",
            " rmalization)                                                                                     \n",
            "                                                                                                  \n",
            " dropout_1 (Dropout)            (None, 28, 28)       0           ['batch_normalization_1[0][0]']  \n",
            "                                                                                                  \n",
            " concatenate (Concatenate)      (None, 56, 28)       0           ['input_1[0][0]',                \n",
            "                                                                  'dropout_1[0][0]']              \n",
            "                                                                                                  \n",
            " flatten (Flatten)              (None, 1568)         0           ['concatenate[0][0]']            \n",
            "                                                                                                  \n",
            " dense_3 (Dense)                (None, 10)           15690       ['flatten[0][0]']                \n",
            "                                                                                                  \n",
            "==================================================================================================\n",
            "Total params: 18,531\n",
            "Trainable params: 18,415\n",
            "Non-trainable params: 116\n",
            "__________________________________________________________________________________________________\n"
          ]
        }
      ]
    },
    {
      "cell_type": "markdown",
      "metadata": {
        "id": "ETnCn42WCQ8n"
      },
      "source": [
        ""
      ]
    }
  ]
}