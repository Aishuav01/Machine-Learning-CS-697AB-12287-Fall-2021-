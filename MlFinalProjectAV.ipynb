{
  "cells": [
    {
      "cell_type": "code",
      "execution_count": 16,
      "metadata": {
        "colab": {
          "base_uri": "https://localhost:8080/",
          "height": 35
        },
        "id": "MYQs9__L6Xq3",
        "outputId": "8197da22-182f-4c82-9701-8e28ecc31151"
      },
      "outputs": [
        {
          "output_type": "execute_result",
          "data": {
            "application/vnd.google.colaboratory.intrinsic+json": {
              "type": "string"
            },
            "text/plain": [
              "'2.7.0'"
            ]
          },
          "metadata": {},
          "execution_count": 16
        }
      ],
      "source": [
        "#Importing Libraries\n",
        "import tensorflow as tf\n",
        "from tensorflow import keras\n",
        "from keras.layers import Dense,Input, Flatten, Bidirectional, BatchNormalization , Dropout, Concatenate, Conv2D, MaxPooling2D\n",
        "from keras.models import Sequential\n",
        "tf.__version__\n",
        "keras.__version__"
      ]
    },
    {
      "cell_type": "code",
      "execution_count": 17,
      "metadata": {
        "id": "BmjZyome6ih_"
      },
      "outputs": [],
      "source": [
        "#Loading the FASHION_MNIST dataset\n",
        "fashion_mnist = keras.datasets.fashion_mnist\n",
        "(X_train_all, y_train_all), (X_test, y_test) = fashion_mnist.load_data()"
      ]
    },
    {
      "cell_type": "code",
      "execution_count": 18,
      "metadata": {
        "id": "vyWwMY3V7U-O"
      },
      "outputs": [],
      "source": [
        "#Rescaling image data in x_train_all from (0 to 255) to (0 to 1)\n",
        "X_train_all , X_test = X_train_all / 255.0 , X_test / 255.0\n",
        "\n",
        "#Populating x_valid ,x_train, y_valid, y_train\n",
        "X_valid, X_train = X_train_all[:5000], X_train_all[5000:]\n",
        "y_valid, y_train = y_train_all[:5000], y_train_all[5000:]"
      ]
    },
    {
      "cell_type": "code",
      "execution_count": 19,
      "metadata": {
        "id": "vIsU8M_Qg9EO"
      },
      "outputs": [],
      "source": [
        "class_names = [\"T-shirt/top\", \"Trouser\", \"Pullover\", \"Dress\", \"Coat\",\n",
        "\"Sandal\", \"Shirt\", \"Sneaker\", \"Bag\", \"Ankle boot\"]"
      ]
    },
    {
      "cell_type": "markdown",
      "metadata": {
        "id": "RfkaNbPgMBAj"
      },
      "source": [
        "# **Model 1**"
      ]
    },
    {
      "cell_type": "code",
      "execution_count": 20,
      "metadata": {
        "colab": {
          "base_uri": "https://localhost:8080/"
        },
        "id": "KoH7KVnWhAee",
        "outputId": "34e0d46e-a7be-497a-f32e-5edac3adb4ef"
      },
      "outputs": [
        {
          "output_type": "stream",
          "name": "stdout",
          "text": [
            "Model: \"sequential_2\"\n",
            "_________________________________________________________________\n",
            " Layer (type)                Output Shape              Param #   \n",
            "=================================================================\n",
            " conv2d_6 (Conv2D)           (None, 26, 26, 16)        160       \n",
            "                                                                 \n",
            " conv2d_7 (Conv2D)           (None, 24, 24, 16)        2320      \n",
            "                                                                 \n",
            " max_pooling2d_3 (MaxPooling  (None, 12, 12, 16)       0         \n",
            " 2D)                                                             \n",
            "                                                                 \n",
            " conv2d_8 (Conv2D)           (None, 10, 10, 32)        4640      \n",
            "                                                                 \n",
            " conv2d_9 (Conv2D)           (None, 8, 8, 32)          9248      \n",
            "                                                                 \n",
            " max_pooling2d_4 (MaxPooling  (None, 4, 4, 32)         0         \n",
            " 2D)                                                             \n",
            "                                                                 \n",
            " flatten_3 (Flatten)         (None, 512)               0         \n",
            "                                                                 \n",
            " dense_8 (Dense)             (None, 90)                46170     \n",
            "                                                                 \n",
            " dense_9 (Dense)             (None, 10)                910       \n",
            "                                                                 \n",
            "=================================================================\n",
            "Total params: 63,448\n",
            "Trainable params: 63,448\n",
            "Non-trainable params: 0\n",
            "_________________________________________________________________\n"
          ]
        }
      ],
      "source": [
        "#Building a neural network with convolutional layers, pooling and dense layers\n",
        "model = Sequential()\n",
        "model.add(Conv2D(16, kernel_size=(3, 3), activation='relu', input_shape=[28, 28,1])) \n",
        "model.add(Conv2D(16, kernel_size=(3, 3), activation='relu', input_shape=[28, 28,1])) \n",
        "model.add(MaxPooling2D(pool_size=(2, 2), strides=2, ))\n",
        "model.add(Conv2D(32, kernel_size=(3, 3), activation='relu', input_shape=[28, 28,1])) \n",
        "model.add(Conv2D(32, kernel_size=(3, 3), activation='relu', input_shape=[28, 28,1]))  \n",
        "model.add(MaxPooling2D(pool_size=(2, 2)))\n",
        "model.add(Flatten())\n",
        "model.add(Dense(90, activation='relu'))\n",
        "model.add(Dense(10, activation='softmax'))\n",
        "#Compiling to configure the model before evaluating \n",
        "model.compile(loss=\"sparse_categorical_crossentropy\", optimizer=\"sgd\", metrics=[\"accuracy\"])\n",
        "#Model Summary\n",
        "model.summary()"
      ]
    },
    {
      "cell_type": "code",
      "execution_count": 21,
      "metadata": {
        "colab": {
          "base_uri": "https://localhost:8080/"
        },
        "id": "fGP76IZOiFSa",
        "outputId": "337679bc-543a-46c3-b10b-0b93256c92a8"
      },
      "outputs": [
        {
          "output_type": "stream",
          "name": "stdout",
          "text": [
            "Epoch 1/15\n",
            "1719/1719 [==============================] - 68s 39ms/step - loss: 0.8552 - accuracy: 0.6886 - val_loss: 0.5239 - val_accuracy: 0.8096\n",
            "Epoch 2/15\n",
            "1719/1719 [==============================] - 67s 39ms/step - loss: 0.5168 - accuracy: 0.8078 - val_loss: 0.5014 - val_accuracy: 0.8238\n",
            "Epoch 3/15\n",
            "1719/1719 [==============================] - 65s 38ms/step - loss: 0.4507 - accuracy: 0.8364 - val_loss: 0.4416 - val_accuracy: 0.8460\n",
            "Epoch 4/15\n",
            "1719/1719 [==============================] - 66s 38ms/step - loss: 0.4132 - accuracy: 0.8502 - val_loss: 0.4100 - val_accuracy: 0.8572\n",
            "Epoch 5/15\n",
            "1719/1719 [==============================] - 67s 39ms/step - loss: 0.3839 - accuracy: 0.8615 - val_loss: 0.3656 - val_accuracy: 0.8744\n",
            "Epoch 6/15\n",
            "1719/1719 [==============================] - 68s 40ms/step - loss: 0.3635 - accuracy: 0.8679 - val_loss: 0.3623 - val_accuracy: 0.8686\n",
            "Epoch 7/15\n",
            "1719/1719 [==============================] - 69s 40ms/step - loss: 0.3446 - accuracy: 0.8747 - val_loss: 0.3457 - val_accuracy: 0.8776\n",
            "Epoch 8/15\n",
            "1719/1719 [==============================] - 67s 39ms/step - loss: 0.3298 - accuracy: 0.8805 - val_loss: 0.3358 - val_accuracy: 0.8844\n",
            "Epoch 9/15\n",
            "1719/1719 [==============================] - 66s 39ms/step - loss: 0.3161 - accuracy: 0.8859 - val_loss: 0.3170 - val_accuracy: 0.8884\n",
            "Epoch 10/15\n",
            "1719/1719 [==============================] - 66s 38ms/step - loss: 0.3051 - accuracy: 0.8894 - val_loss: 0.3107 - val_accuracy: 0.8916\n",
            "Epoch 11/15\n",
            "1719/1719 [==============================] - 66s 39ms/step - loss: 0.2951 - accuracy: 0.8918 - val_loss: 0.3035 - val_accuracy: 0.8904\n",
            "Epoch 12/15\n",
            "1719/1719 [==============================] - 67s 39ms/step - loss: 0.2871 - accuracy: 0.8960 - val_loss: 0.3071 - val_accuracy: 0.8910\n",
            "Epoch 13/15\n",
            "1719/1719 [==============================] - 67s 39ms/step - loss: 0.2780 - accuracy: 0.8979 - val_loss: 0.2931 - val_accuracy: 0.8970\n",
            "Epoch 14/15\n",
            "1719/1719 [==============================] - 68s 39ms/step - loss: 0.2708 - accuracy: 0.9006 - val_loss: 0.3268 - val_accuracy: 0.8856\n",
            "Epoch 15/15\n",
            "1719/1719 [==============================] - 67s 39ms/step - loss: 0.2639 - accuracy: 0.9029 - val_loss: 0.3088 - val_accuracy: 0.8880\n"
          ]
        }
      ],
      "source": [
        "history = model.fit(X_train, y_train, epochs=15, validation_data=(X_valid, y_valid))"
      ]
    },
    {
      "cell_type": "code",
      "execution_count": 22,
      "metadata": {
        "colab": {
          "base_uri": "https://localhost:8080/"
        },
        "id": "IhMAUEqrT7AX",
        "outputId": "b43af3a4-c0ed-4664-aa78-0243174c2006"
      },
      "outputs": [
        {
          "output_type": "stream",
          "name": "stdout",
          "text": [
            "Test Loss: 31.7404%\n",
            "Test Accuracy : 88.6300%\n"
          ]
        }
      ],
      "source": [
        "#Evaluating model and deriving the accuracy results\n",
        "score = model.evaluate(X_test,y_test, verbose=0)\n",
        "print('Test Loss: {:.4f}%'.format(score[0]*100))\n",
        "print('Test Accuracy : {:.4f}%'.format(score[1]*100))"
      ]
    },
    {
      "cell_type": "markdown",
      "metadata": {
        "id": "rn38paSdgT0Z"
      },
      "source": [
        "# **Model 2**"
      ]
    },
    {
      "cell_type": "code",
      "execution_count": 23,
      "metadata": {
        "colab": {
          "base_uri": "https://localhost:8080/"
        },
        "id": "qDIRBv6de_xR",
        "outputId": "1f19ca6b-1d09-49f6-b9e7-e7203e04a235"
      },
      "outputs": [
        {
          "output_type": "stream",
          "name": "stdout",
          "text": [
            "Model: \"sequential_3\"\n",
            "_________________________________________________________________\n",
            " Layer (type)                Output Shape              Param #   \n",
            "=================================================================\n",
            " conv2d_10 (Conv2D)          (None, 26, 26, 4)         40        \n",
            "                                                                 \n",
            " conv2d_11 (Conv2D)          (None, 24, 24, 8)         296       \n",
            "                                                                 \n",
            " max_pooling2d_5 (MaxPooling  (None, 12, 12, 8)        0         \n",
            " 2D)                                                             \n",
            "                                                                 \n",
            " dropout_4 (Dropout)         (None, 12, 12, 8)         0         \n",
            "                                                                 \n",
            " flatten_4 (Flatten)         (None, 1152)              0         \n",
            "                                                                 \n",
            " dense_10 (Dense)            (None, 50)                57650     \n",
            "                                                                 \n",
            " dropout_5 (Dropout)         (None, 50)                0         \n",
            "                                                                 \n",
            " dense_11 (Dense)            (None, 20)                1020      \n",
            "                                                                 \n",
            "=================================================================\n",
            "Total params: 59,006\n",
            "Trainable params: 59,006\n",
            "Non-trainable params: 0\n",
            "_________________________________________________________________\n"
          ]
        }
      ],
      "source": [
        "\n",
        "model2 = Sequential()\n",
        "model2.add(Conv2D(4, kernel_size=(3, 3), activation='relu', input_shape=[28, 28,1])) \n",
        "model2.add(Conv2D(8, (3, 3), activation='relu'))\n",
        "model2.add(MaxPooling2D(pool_size=(2, 2)))\n",
        "model2.add(Dropout(0.25)) \n",
        "model2.add(Flatten())\n",
        "model2.add(Dense(50, activation='sigmoid'))\n",
        "model2.add(Dropout(0.5))\n",
        "model2.add(Dense(20, activation='softmax'))\n",
        "#Compiling to configure the model before evaluating\n",
        "model2.compile(loss=\"sparse_categorical_crossentropy\", optimizer=\"adam\", metrics=[\"accuracy\"])\n",
        "#Model Summary\n",
        "model2.summary()"
      ]
    },
    {
      "cell_type": "code",
      "execution_count": 24,
      "metadata": {
        "colab": {
          "base_uri": "https://localhost:8080/"
        },
        "id": "H4ttKvBmgv6H",
        "outputId": "f7ea85e4-1845-4cf7-ea65-d23d474326e8"
      },
      "outputs": [
        {
          "output_type": "stream",
          "name": "stdout",
          "text": [
            "Epoch 1/15\n",
            "1719/1719 [==============================] - 35s 20ms/step - loss: 0.8671 - accuracy: 0.7074 - val_loss: 0.4720 - val_accuracy: 0.8318\n",
            "Epoch 2/15\n",
            "1719/1719 [==============================] - 34s 20ms/step - loss: 0.5646 - accuracy: 0.7991 - val_loss: 0.4064 - val_accuracy: 0.8510\n",
            "Epoch 3/15\n",
            "1719/1719 [==============================] - 34s 20ms/step - loss: 0.5032 - accuracy: 0.8214 - val_loss: 0.3613 - val_accuracy: 0.8664\n",
            "Epoch 4/15\n",
            "1719/1719 [==============================] - 35s 20ms/step - loss: 0.4615 - accuracy: 0.8374 - val_loss: 0.3416 - val_accuracy: 0.8744\n",
            "Epoch 5/15\n",
            "1719/1719 [==============================] - 34s 20ms/step - loss: 0.4409 - accuracy: 0.8426 - val_loss: 0.3238 - val_accuracy: 0.8812\n",
            "Epoch 6/15\n",
            "1719/1719 [==============================] - 35s 20ms/step - loss: 0.4196 - accuracy: 0.8504 - val_loss: 0.3062 - val_accuracy: 0.8870\n",
            "Epoch 7/15\n",
            "1719/1719 [==============================] - 35s 20ms/step - loss: 0.4036 - accuracy: 0.8557 - val_loss: 0.3026 - val_accuracy: 0.8896\n",
            "Epoch 8/15\n",
            "1719/1719 [==============================] - 35s 20ms/step - loss: 0.3917 - accuracy: 0.8588 - val_loss: 0.2888 - val_accuracy: 0.8962\n",
            "Epoch 9/15\n",
            "1719/1719 [==============================] - 35s 20ms/step - loss: 0.3801 - accuracy: 0.8633 - val_loss: 0.2864 - val_accuracy: 0.8960\n",
            "Epoch 10/15\n",
            "1719/1719 [==============================] - 35s 20ms/step - loss: 0.3732 - accuracy: 0.8638 - val_loss: 0.2852 - val_accuracy: 0.8942\n",
            "Epoch 11/15\n",
            "1719/1719 [==============================] - 35s 20ms/step - loss: 0.3634 - accuracy: 0.8655 - val_loss: 0.2772 - val_accuracy: 0.8976\n",
            "Epoch 12/15\n",
            "1719/1719 [==============================] - 35s 20ms/step - loss: 0.3585 - accuracy: 0.8690 - val_loss: 0.2784 - val_accuracy: 0.8988\n",
            "Epoch 13/15\n",
            "1719/1719 [==============================] - 35s 20ms/step - loss: 0.3498 - accuracy: 0.8711 - val_loss: 0.2683 - val_accuracy: 0.8998\n",
            "Epoch 14/15\n",
            "1719/1719 [==============================] - 35s 20ms/step - loss: 0.3483 - accuracy: 0.8737 - val_loss: 0.2629 - val_accuracy: 0.9042\n",
            "Epoch 15/15\n",
            "1719/1719 [==============================] - 34s 20ms/step - loss: 0.3434 - accuracy: 0.8727 - val_loss: 0.2669 - val_accuracy: 0.9034\n"
          ]
        }
      ],
      "source": [
        "#Training Model with epochs = 15\n",
        "history = model2.fit(X_train, y_train, epochs=15, validation_data=(X_valid, y_valid))"
      ]
    },
    {
      "cell_type": "code",
      "execution_count": 25,
      "metadata": {
        "colab": {
          "base_uri": "https://localhost:8080/"
        },
        "id": "-ut0Vrh6wloq",
        "outputId": "b4a9a1dd-1b65-4f99-b58e-d985693c68d0"
      },
      "outputs": [
        {
          "output_type": "stream",
          "name": "stdout",
          "text": [
            "Test Loss: 28.9597%\n",
            "Test Accuracy : 89.8700%\n"
          ]
        }
      ],
      "source": [
        "#Evaluating model and deriving the accuracy results\n",
        "score2 = model2.evaluate(X_test,y_test, verbose=0)\n",
        "print('Test Loss: {:.4f}%'.format(score2[0]*100))\n",
        "print('Test Accuracy : {:.4f}%'.format(score2[1]*100))"
      ]
    },
    {
      "cell_type": "markdown",
      "metadata": {
        "id": "lZ38PPKNuisi"
      },
      "source": [
        "# **Model 3**"
      ]
    },
    {
      "cell_type": "code",
      "execution_count": 26,
      "metadata": {
        "colab": {
          "base_uri": "https://localhost:8080/"
        },
        "id": "Dyy8A0Pc9Hbg",
        "outputId": "3a879273-1e1f-41a7-ab95-b15c5dac78b9"
      },
      "outputs": [
        {
          "output_type": "stream",
          "name": "stdout",
          "text": [
            "Model: \"model_1\"\n",
            "_________________________________________________________________\n",
            " Layer (type)                Output Shape              Param #   \n",
            "=================================================================\n",
            " input_2 (InputLayer)        [(None, 28, 28)]          0         \n",
            "                                                                 \n",
            " dense_12 (Dense)            (None, 28, 30)            870       \n",
            "                                                                 \n",
            " batch_normalization_2 (Batc  (None, 28, 30)           120       \n",
            " hNormalization)                                                 \n",
            "                                                                 \n",
            " dropout_6 (Dropout)         (None, 28, 30)            0         \n",
            "                                                                 \n",
            " dense_13 (Dense)            (None, 28, 29)            899       \n",
            "                                                                 \n",
            " dense_14 (Dense)            (None, 28, 28)            840       \n",
            "                                                                 \n",
            " batch_normalization_3 (Batc  (None, 28, 28)           112       \n",
            " hNormalization)                                                 \n",
            "                                                                 \n",
            " dropout_7 (Dropout)         (None, 28, 28)            0         \n",
            "                                                                 \n",
            " flatten_5 (Flatten)         (None, 784)               0         \n",
            "                                                                 \n",
            " dense_15 (Dense)            (None, 10)                7850      \n",
            "                                                                 \n",
            "=================================================================\n",
            "Total params: 10,691\n",
            "Trainable params: 10,575\n",
            "Non-trainable params: 116\n",
            "_________________________________________________________________\n"
          ]
        }
      ],
      "source": [
        "#Building a neural network with batch normalization and dropout layers\n",
        "input_data = Input(shape= X_train[0].shape)\n",
        "hidden_Layer_1 = Dense(30 , activation='relu')(input_data)\n",
        "model3 = BatchNormalization()(hidden_Layer_1)\n",
        "model3 = Dropout(0.4)(model3)\n",
        "hidden_Layer_2 = Dense(29, activation='relu')(model3)\n",
        "hidden_Layer_3 = Dense(28, activation='relu')(hidden_Layer_2)\n",
        "model3 = BatchNormalization()(hidden_Layer_3)\n",
        "model3 = Dropout(0.4)(model3)\n",
        "concat = Concatenate(axis=1)\n",
        "model3 = Flatten()(model3)\n",
        "output = Dense(10, activation='softmax')(model3)\n",
        "model3 = keras.models.Model(inputs = [input_data], outputs = [output])\n",
        "#Compiling to configure the model before evaluating\n",
        "model3.compile(loss=\"sparse_categorical_crossentropy\", optimizer=\"adam\", metrics=[\"accuracy\"])\n",
        "#Model Summary\n",
        "model3.summary()"
      ]
    },
    {
      "cell_type": "code",
      "execution_count": 27,
      "metadata": {
        "colab": {
          "base_uri": "https://localhost:8080/"
        },
        "id": "BDr8zrlgA6Pl",
        "outputId": "e57140a3-0ad8-4c4d-f729-6eec22422b90"
      },
      "outputs": [
        {
          "output_type": "stream",
          "name": "stdout",
          "text": [
            "Epoch 1/15\n",
            "1719/1719 [==============================] - 13s 7ms/step - loss: 0.6980 - accuracy: 0.7570 - val_loss: 0.4178 - val_accuracy: 0.8502\n",
            "Epoch 2/15\n",
            "1719/1719 [==============================] - 11s 7ms/step - loss: 0.4828 - accuracy: 0.8245 - val_loss: 0.3755 - val_accuracy: 0.8626\n",
            "Epoch 3/15\n",
            "1719/1719 [==============================] - 12s 7ms/step - loss: 0.4474 - accuracy: 0.8365 - val_loss: 0.3675 - val_accuracy: 0.8668\n",
            "Epoch 4/15\n",
            "1719/1719 [==============================] - 12s 7ms/step - loss: 0.4300 - accuracy: 0.8448 - val_loss: 0.3518 - val_accuracy: 0.8702\n",
            "Epoch 5/15\n",
            "1719/1719 [==============================] - 12s 7ms/step - loss: 0.4172 - accuracy: 0.8483 - val_loss: 0.3401 - val_accuracy: 0.8776\n",
            "Epoch 6/15\n",
            "1719/1719 [==============================] - 12s 7ms/step - loss: 0.4071 - accuracy: 0.8504 - val_loss: 0.3403 - val_accuracy: 0.8778\n",
            "Epoch 7/15\n",
            "1719/1719 [==============================] - 12s 7ms/step - loss: 0.4052 - accuracy: 0.8537 - val_loss: 0.3312 - val_accuracy: 0.8818\n",
            "Epoch 8/15\n",
            "1719/1719 [==============================] - 12s 7ms/step - loss: 0.3994 - accuracy: 0.8537 - val_loss: 0.3196 - val_accuracy: 0.8842\n",
            "Epoch 9/15\n",
            "1719/1719 [==============================] - 12s 7ms/step - loss: 0.3913 - accuracy: 0.8581 - val_loss: 0.3230 - val_accuracy: 0.8806\n",
            "Epoch 10/15\n",
            "1719/1719 [==============================] - 12s 7ms/step - loss: 0.3887 - accuracy: 0.8598 - val_loss: 0.3219 - val_accuracy: 0.8840\n",
            "Epoch 11/15\n",
            "1719/1719 [==============================] - 12s 7ms/step - loss: 0.3809 - accuracy: 0.8619 - val_loss: 0.3241 - val_accuracy: 0.8822\n",
            "Epoch 12/15\n",
            "1719/1719 [==============================] - 12s 7ms/step - loss: 0.3772 - accuracy: 0.8623 - val_loss: 0.3104 - val_accuracy: 0.8858\n",
            "Epoch 13/15\n",
            "1719/1719 [==============================] - 12s 7ms/step - loss: 0.3759 - accuracy: 0.8627 - val_loss: 0.3137 - val_accuracy: 0.8836\n",
            "Epoch 14/15\n",
            "1719/1719 [==============================] - 11s 7ms/step - loss: 0.3765 - accuracy: 0.8635 - val_loss: 0.3192 - val_accuracy: 0.8848\n",
            "Epoch 15/15\n",
            "1719/1719 [==============================] - 12s 7ms/step - loss: 0.3720 - accuracy: 0.8655 - val_loss: 0.3148 - val_accuracy: 0.8852\n"
          ]
        }
      ],
      "source": [
        "#Training Model with epochs = 15\n",
        "history = model3.fit(X_train, y_train, epochs=15, validation_data=(X_valid, y_valid))"
      ]
    },
    {
      "cell_type": "code",
      "execution_count": 28,
      "metadata": {
        "id": "a7cMXqdUBQDD",
        "colab": {
          "base_uri": "https://localhost:8080/"
        },
        "outputId": "927301c7-08ec-4668-b262-a0716b270eb3"
      },
      "outputs": [
        {
          "output_type": "stream",
          "name": "stdout",
          "text": [
            "Test Loss: 35.4970%\n",
            "Test Accuracy : 87.5900%\n"
          ]
        }
      ],
      "source": [
        "#Evaluating model and deriving the accuracy results\n",
        "score3 = model3.evaluate(X_test,y_test, verbose=0)\n",
        "print('Test Loss: {:.4f}%'.format(score3[0]*100))\n",
        "print('Test Accuracy : {:.4f}%'.format(score3[1]*100))"
      ]
    },
    {
      "cell_type": "code",
      "execution_count": 31,
      "metadata": {
        "id": "XuxzRXwlK1HL",
        "colab": {
          "base_uri": "https://localhost:8080/"
        },
        "outputId": "753692c8-c3a4-4967-c507-0b574f2ba335"
      },
      "outputs": [
        {
          "output_type": "stream",
          "name": "stdout",
          "text": [
            "88.69666655858357\n"
          ]
        }
      ],
      "source": [
        "#For determining accuracy of the committee of the 3 models.\n",
        "average_accuracy = (score[1]*100+score2[1]*100+score3[1]*100)/3.0\n",
        "print(average_accuracy)"
      ]
    }
  ],
  "metadata": {
    "colab": {
      "collapsed_sections": [],
      "name": "MlFinalProjectAV.ipynb",
      "provenance": []
    },
    "kernelspec": {
      "display_name": "Python 3",
      "name": "python3"
    },
    "language_info": {
      "name": "python"
    }
  },
  "nbformat": 4,
  "nbformat_minor": 0
}